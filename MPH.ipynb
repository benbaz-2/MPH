{
  "cells": [
    {
      "cell_type": "markdown",
      "metadata": {
        "id": "view-in-github",
        "colab_type": "text"
      },
      "source": [
        "<a href=\"https://colab.research.google.com/github/benbaz-2/MPH/blob/main/MPH.ipynb\" target=\"_parent\"><img src=\"https://colab.research.google.com/assets/colab-badge.svg\" alt=\"Open In Colab\"/></a>"
      ]
    },
    {
      "cell_type": "markdown",
      "source": [
        "# McGill Physics Hackaton 2024: Galaxy shape classification"
      ],
      "metadata": {
        "id": "xlmqmrlpf3T7"
      }
    },
    {
      "cell_type": "markdown",
      "source": [
        "## Imports"
      ],
      "metadata": {
        "id": "FL6gwuT_1CF0"
      }
    },
    {
      "cell_type": "code",
      "execution_count": 13,
      "metadata": {
        "id": "rXJQ7Y956rhj"
      },
      "outputs": [],
      "source": [
        "import numpy as np\n",
        "import pandas as pd\n",
        "import matplotlib.pyplot as plt\n",
        "from PIL import Image\n",
        "import os\n",
        "import torch\n",
        "from torchvision import transforms"
      ]
    },
    {
      "cell_type": "markdown",
      "source": [
        "## Filtering data"
      ],
      "metadata": {
        "id": "83sf_p3n1IIj"
      }
    },
    {
      "cell_type": "markdown",
      "source": [
        "We chose data with a difference in probabilities in class four greater than 0.25"
      ],
      "metadata": {
        "id": "a_fiD3Tp64kn"
      }
    },
    {
      "cell_type": "code",
      "source": [
        "galaxyID=np.loadtxt('/training_solutions_rev1.csv', delimiter = ',', skiprows=1,usecols=0,dtype=int)\n",
        "#one row containing 61 578 planet IDs\n",
        "\n",
        "class4=np.loadtxt('/training_solutions_rev1.csv', delimiter = ',', skiprows=1,usecols=(8,9),dtype=float)\n",
        "data = np.column_stack((galaxyID, class4))\n",
        "#each subarray corresponds to same galaxy\n",
        "#remove a row if last two columns are both zero\n",
        "difference = np.abs(data[:, -1] - data[:, -2])\n",
        "data=data[difference >= 0.25]\n",
        "\n",
        "\n",
        "has_spiral=data[:, -2] > data[:, -1]\n",
        "has_spiral=np.column_stack((data[:,0],has_spiral))\n",
        "has_spiral=has_spiral.astype(int)\n",
        "num_spirals=has_spiral[has_spiral[:,-1]==1]\n"
      ],
      "metadata": {
        "id": "t0U4NcPBngWk"
      },
      "execution_count": 14,
      "outputs": []
    },
    {
      "cell_type": "code",
      "source": [
        "# sampling 1000 data points because we can't fit everything into memory\n",
        "ids = has_spiral[np.random.choice(has_spiral.shape[0], 1000, replace=False)]\n",
        "\n",
        "# data will store the numpy arrays in the first column and the labels in the second column\n",
        "X = np.zeros((1000, 424, 424, 3), int)\n",
        "y = np.zeros(1000)\n",
        "\n"
      ],
      "metadata": {
        "id": "_pHZ4VTbny_n"
      },
      "execution_count": 15,
      "outputs": []
    },
    {
      "cell_type": "code",
      "source": [
        "# Ennumerate over ids\n",
        "for i, id in enumerate(ids[:, 0]):\n",
        "  # Construct the path to retrieve the jpg files\n",
        "  path = '/content/images/images_training_rev1/' + str(id) + '.jpg'\n",
        "  with Image.open(path) as img:\n",
        "    # Append the arrays and labels to X and y arrays\n",
        "    img_array = np.array(img)\n",
        "    X[i] = img_array\n",
        "    y[i] = ids[i, 1]"
      ],
      "metadata": {
        "id": "XDF-2Fpc4Xbq"
      },
      "execution_count": 16,
      "outputs": []
    },
    {
      "cell_type": "markdown",
      "source": [
        "## Data processing"
      ],
      "metadata": {
        "id": "df5B5XYgfzxw"
      }
    },
    {
      "cell_type": "code",
      "source": [
        "X = torch.from_numpy(X[1:10]).float()\n",
        "X = X.permute(0, 3, 1, 2)\n",
        "X /= 255"
      ],
      "metadata": {
        "id": "W93ECa_CgCZ2"
      },
      "execution_count": 17,
      "outputs": []
    },
    {
      "cell_type": "code",
      "source": [
        "means = X.mean(dim=(2, 3), keepdim=True)  # Shape: (10, 3, 1, 1)\n",
        "stds = X.std(dim=(2, 3), keepdim=True)  # Shape: (10, 3, 1, 1)\n",
        "\n",
        "# Normalize the tensor\n",
        "X = (X - means) / (stds + 1e-8)"
      ],
      "metadata": {
        "id": "KAd-qr8Biwf1"
      },
      "execution_count": 21,
      "outputs": []
    },
    {
      "cell_type": "markdown",
      "source": [
        "## Model implementation"
      ],
      "metadata": {
        "id": "ZWQqUA2klEUz"
      }
    },
    {
      "cell_type": "markdown",
      "source": [
        "1. Create class\n",
        "2. Decide architecture\n",
        "3. Train test split\n",
        "4. Training\n",
        "5. Hyperparameter tuning\n",
        "6. Model evaluation\n",
        "7. Presentation"
      ],
      "metadata": {
        "id": "LnqKvPaOllry"
      }
    },
    {
      "cell_type": "markdown",
      "source": [
        "pytorch tensor datatype. Check pytorch assumption of tensor shape RGB, length width or other way around torchvision"
      ],
      "metadata": {
        "id": "EfISDH0vDz2R"
      }
    }
  ],
  "metadata": {
    "colab": {
      "provenance": [],
      "collapsed_sections": [
        "FL6gwuT_1CF0",
        "83sf_p3n1IIj",
        "df5B5XYgfzxw"
      ],
      "include_colab_link": true
    },
    "kernelspec": {
      "display_name": "Python 3",
      "name": "python3"
    },
    "language_info": {
      "name": "python"
    }
  },
  "nbformat": 4,
  "nbformat_minor": 0
}